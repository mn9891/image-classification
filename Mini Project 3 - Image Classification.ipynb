{
 "cells": [
  {
   "cell_type": "markdown",
   "metadata": {},
   "source": [
    "<h1><center> Mini Project 3 - Image Classification </center></h1>"
   ]
  },
  {
   "cell_type": "markdown",
   "metadata": {},
   "source": [
    "<div style=\"text-align: right\"> Amen Memmi</div>\n",
    "<div style=\"text-align: right\"> amen.memmi@mail.mcgill.ca</div>\n",
    "<div style=\"text-align: right\">  ID: 260755070</div>"
   ]
  },
  {
   "cell_type": "markdown",
   "metadata": {},
   "source": [
    "### This notebook is my shot at the third mini project from COMP-551 course. I used transfer learning from Google's pre-trained deep neural network, Inception v3, for features extraction and then Naive Bayes and SVM for classification. This performed as the best classifier in my team, team Kakashi, with an accuracy of 88% on the test set. Details are below. "
   ]
  },
  {
   "cell_type": "markdown",
   "metadata": {},
   "source": [
    "The dataset for this project is based on the classic ImageNet dataset, however only a subset of\n",
    "40 classes is considered, and each image has been modified to be smaller. The training set contains 26344 images while the test set is comprised of 6600 images.<br>\n",
    "Examples of the training samples (1 per class) are shown below:"
   ]
  },
  {
   "cell_type": "markdown",
   "metadata": {},
   "source": [
    "<img src=\"40_classes.png\" alt=\"Drawing\" align=\"left\" style=\"width: 800px;\"/>"
   ]
  },
  {
   "cell_type": "code",
   "execution_count": 1,
   "metadata": {},
   "outputs": [],
   "source": [
    "import os\n",
    "import re\n",
    "import tensorflow as tf\n",
    "import tensorflow.python.platform\n",
    "from tensorflow.python.platform import gfile\n",
    "import numpy as np\n",
    "import pandas as pd\n",
    "from sklearn.model_selection import train_test_split\n",
    "import pickle\n",
    "import time\n",
    "from sklearn.naive_bayes import MultinomialNB\n",
    "from sklearn.svm import SVC, LinearSVC\n",
    "from sklearn.metrics import accuracy_score, confusion_matrix\n",
    "from tqdm import tqdm_notebook\n",
    "import matplotlib.pyplot as plt\n",
    "%matplotlib inline"
   ]
  },
  {
   "cell_type": "markdown",
   "metadata": {
    "collapsed": true
   },
   "source": [
    "# Features Extraction via Transfer learning"
   ]
  },
  {
   "cell_type": "markdown",
   "metadata": {},
   "source": [
    "The pre-trained DNN I will be relying on is Inception-v3. It has been developed by Google and it has high classification performance and is easily available in TensorFlow."
   ]
  },
  {
   "cell_type": "markdown",
   "metadata": {},
   "source": [
    "First, I download the model in the directory model_dir I created in the project directory project_dir. <br>\n",
    "<font color=grey> {{ To do so, download the model into the project directory by running in a terminal (after cloning https://github.com/tensorflow/models from github) :</font> <br>\n",
    "<font color=grey> cd tensorflow/models/image/imagenet python classify_image.py --model_dir project_dir/model_dir }}</font>"
   ]
  },
  {
   "cell_type": "code",
   "execution_count": 2,
   "metadata": {},
   "outputs": [],
   "source": [
    "# inception v3 model directory\n",
    "model_dir = 'inception_model'"
   ]
  },
  {
   "cell_type": "markdown",
   "metadata": {},
   "source": [
    "\n",
    "To use TensorFlow, a graph that represents the description of computations is needed. That's the __classify_image_graph_def.pb__ file we downloaded. Then these computations will be executed within what is called sessions. Let's define a function to create the graph from  the graph definition contained within the file I just mentioned:"
   ]
  },
  {
   "cell_type": "code",
   "execution_count": 3,
   "metadata": {},
   "outputs": [],
   "source": [
    "def create_graph():\n",
    "    \"\"\" Creates a graph from the graph definition saved in classify_image_graph_def.pb in the model directory \"\"\"\n",
    "    with gfile.FastGFile(os.path.join(\n",
    "    model_dir, 'classify_image_graph_def.pb'), 'rb') as f:\n",
    "        graph_def = tf.GraphDef()\n",
    "        graph_def.ParseFromString(f.read())\n",
    "        _ = tf.import_graph_def(graph_def, name='')"
   ]
  },
  {
   "cell_type": "code",
   "execution_count": 4,
   "metadata": {},
   "outputs": [],
   "source": [
    "create_graph()"
   ]
  },
  {
   "cell_type": "code",
   "execution_count": 5,
   "metadata": {},
   "outputs": [],
   "source": [
    "# loading data\n",
    "trainX = np.load('tinyX.npy') # this should have shape (26344, 3, 64, 64)\n",
    "trainY = np.load('tinyY.npy')"
   ]
  },
  {
   "cell_type": "code",
   "execution_count": 8,
   "metadata": {},
   "outputs": [
    {
     "name": "stdout",
     "output_type": "stream",
     "text": [
      "trainX shape: (26344, 3, 64, 64)\n",
      "trainY shape: (26344,)\n"
     ]
    }
   ],
   "source": [
    "print(f'trainX shape: {trainX.shape}')\n",
    "print(f'trainY shape: {trainY.shape}')"
   ]
  },
  {
   "cell_type": "markdown",
   "metadata": {},
   "source": [
    "Now, we need to drop the last layer (as it is the classification layer and does not correspond to our classes) and export the next-to-last layer outputs as features for each image. In TensorFlow, this layer is called __pool_3__."
   ]
  },
  {
   "cell_type": "code",
   "execution_count": 9,
   "metadata": {},
   "outputs": [],
   "source": [
    "def extract_features(input_set):\n",
    "    \"\"\" Returns the features corresponding to the output of thes next-to-last layer \"\"\"\n",
    "    nb_features = 2048\n",
    "    features = np.empty((len(input_set),nb_features))\n",
    "    create_graph()\n",
    "    with tf.Session() as sess:\n",
    "        next_to_last_tensor = sess.graph.get_tensor_by_name('pool_3:0')\n",
    "        for ind in tqdm_notebook(range(len(input_set))):\n",
    "            predictions = sess.run(next_to_last_tensor, {'DecodeJpeg:0': input_set[ind].transpose(2,1,0)})\n",
    "            features[ind,:] = np.squeeze(predictions)           \n",
    "    return features"
   ]
  },
  {
   "cell_type": "markdown",
   "metadata": {},
   "source": [
    "### Extracting training data features\n"
   ]
  },
  {
   "cell_type": "code",
   "execution_count": 10,
   "metadata": {},
   "outputs": [
    {
     "data": {
      "application/vnd.jupyter.widget-view+json": {
       "model_id": "c8d06a823f024e7da8aa690205fe81f3",
       "version_major": 2,
       "version_minor": 0
      },
      "text/plain": [
       "HBox(children=(IntProgress(value=0, max=26344), HTML(value='')))"
      ]
     },
     "metadata": {},
     "output_type": "display_data"
    },
    {
     "name": "stdout",
     "output_type": "stream",
     "text": [
      "\n",
      "Wall time: 1h 14min 40s\n"
     ]
    }
   ],
   "source": [
    "%%time\n",
    "trainX_features = extract_features(trainX)"
   ]
  },
  {
   "cell_type": "markdown",
   "metadata": {},
   "source": [
    "### Loading test data and Extracting test data features\n"
   ]
  },
  {
   "cell_type": "code",
   "execution_count": 12,
   "metadata": {},
   "outputs": [],
   "source": [
    "testX = np.load('tinyX_test.npy') # (6600, 3, 64, 64)"
   ]
  },
  {
   "cell_type": "code",
   "execution_count": 13,
   "metadata": {},
   "outputs": [
    {
     "data": {
      "application/vnd.jupyter.widget-view+json": {
       "model_id": "7d39100b7bcf48e2a857de625019f471",
       "version_major": 2,
       "version_minor": 0
      },
      "text/plain": [
       "HBox(children=(IntProgress(value=0, max=6600), HTML(value='')))"
      ]
     },
     "metadata": {},
     "output_type": "display_data"
    },
    {
     "name": "stdout",
     "output_type": "stream",
     "text": [
      "\n",
      "Wall time: 18min 36s\n"
     ]
    }
   ],
   "source": [
    "%%time\n",
    "# \n",
    "trainX_features_test = extract_features(testX)"
   ]
  },
  {
   "cell_type": "markdown",
   "metadata": {
    "collapsed": true
   },
   "source": [
    "Features are saved now so that they can be used without re-running this step of feature extraction, which can be relatively long (about 1h 30 min total on my laptop with i7 7700M CPU and 16 Go RAM)."
   ]
  },
  {
   "cell_type": "code",
   "execution_count": 15,
   "metadata": {},
   "outputs": [],
   "source": [
    "# Exporting training data features\n",
    "pickle.dump(trainX_features, open('trainX_features', 'wb'))"
   ]
  },
  {
   "cell_type": "code",
   "execution_count": 16,
   "metadata": {},
   "outputs": [],
   "source": [
    "# Exporting test data features\n",
    "pickle.dump(trainX_features_test, open('testX_features', 'wb'))"
   ]
  },
  {
   "cell_type": "markdown",
   "metadata": {},
   "source": [
    "# Classification"
   ]
  },
  {
   "cell_type": "code",
   "execution_count": 17,
   "metadata": {},
   "outputs": [],
   "source": [
    "# importing training set features and labels\n",
    "with open('trainX_features', 'rb') as f:\n",
    "    trainX_features = pickle.load(f)\n",
    "trainY = np.load('tinyY.npy')"
   ]
  },
  {
   "cell_type": "markdown",
   "metadata": {},
   "source": [
    "###  Performances Evaluation"
   ]
  },
  {
   "cell_type": "code",
   "execution_count": 18,
   "metadata": {},
   "outputs": [],
   "source": [
    "# split into train & validation sets\n",
    "F, F_val, Y, Y_val = train_test_split(trainX_features, trainY, test_size=0.33, random_state=17)"
   ]
  },
  {
   "cell_type": "markdown",
   "metadata": {},
   "source": [
    "#### Naive Bayes classifier"
   ]
  },
  {
   "cell_type": "code",
   "execution_count": 8,
   "metadata": {},
   "outputs": [
    {
     "data": {
      "application/vnd.jupyter.widget-view+json": {
       "model_id": "c9697670523b4141ac00dc3c190782f1",
       "version_major": 2,
       "version_minor": 0
      },
      "text/plain": [
       "HBox(children=(IntProgress(value=0), HTML(value='')))"
      ]
     },
     "metadata": {},
     "output_type": "display_data"
    },
    {
     "name": "stdout",
     "output_type": "stream",
     "text": [
      "\n",
      "Accuracy: 89.7%\n"
     ]
    }
   ],
   "source": [
    "#### Results of the MultinomialNB included in Sckit #########\n",
    "K=100\n",
    "accuracy=0.0\n",
    "for k in tqdm_notebook(range(K)):\n",
    "    # split into train & validation sets\n",
    "    F, F_val, Y, Y_val = train_test_split(trainX_features, trainY, test_size=0.33, random_state=k)\n",
    "    clf = MultinomialNB().fit(F, Y)\n",
    "    po=clf.predict(F_val)\n",
    "    accuracy+=accuracy_score(Y_val,po)*100\n",
    "accuracy=accuracy/K\n",
    "print(f\"Accuracy: {accuracy}%\")"
   ]
  },
  {
   "cell_type": "markdown",
   "metadata": {},
   "source": [
    "#### SVM Classifier"
   ]
  },
  {
   "cell_type": "code",
   "execution_count": 11,
   "metadata": {
    "scrolled": true
   },
   "outputs": [
    {
     "data": {
      "application/vnd.jupyter.widget-view+json": {
       "model_id": "3c1831c455bb4a938033c31379f79bc4",
       "version_major": 2,
       "version_minor": 0
      },
      "text/plain": [
       "HBox(children=(IntProgress(value=0, max=10), HTML(value='')))"
      ]
     },
     "metadata": {},
     "output_type": "display_data"
    },
    {
     "name": "stdout",
     "output_type": "stream",
     "text": [
      "\n",
      "Accuracy: 91.3%\n"
     ]
    }
   ],
   "source": [
    "#### Results of LinearSVC from scikit #########\n",
    "K=10\n",
    "accuracy=0.0\n",
    "clf_SVM = LinearSVC(C=1.0, loss='squared_hinge', penalty='l2',multi_class='ovr')\n",
    "for k in tqdm_notebook(range(K)):\n",
    "    # split into train & validation sets\n",
    "    F, F_val, Y, Y_val = train_test_split(trainX_features, trainY, test_size=0.33, random_state=17*k)\n",
    "    clf_SVM.fit(F, Y)\n",
    "    y_pred = clf_SVM.predict(F_val)\n",
    "    accuracy+=accuracy_score(Y_val,y_pred)*100\n",
    "accuracy=accuracy/K\n",
    "print(f\"Accuracy: {accuracy}%\")"
   ]
  },
  {
   "cell_type": "code",
   "execution_count": 12,
   "metadata": {},
   "outputs": [],
   "source": [
    "def plot_confusion_matrix(y_true,y_pred):\n",
    "    cm_array = confusion_matrix(y_true,y_pred)\n",
    "    true_labels = np.unique(y_true)\n",
    "    pred_labels = np.unique(y_pred)\n",
    "    plt.imshow(cm_array[:-1,:-1], interpolation='nearest', cmap=plt.cm.Blues)\n",
    "    plt.title(\"Confusion matrix\", fontsize=16)\n",
    "    cbar = plt.colorbar(fraction=0.046, pad=0.04)\n",
    "    cbar.set_label('Number of images', rotation=270, labelpad=30, fontsize=12)\n",
    "    xtick_marks = np.arange(len(true_labels))\n",
    "    ytick_marks = np.arange(len(pred_labels))\n",
    "    plt.xticks(xtick_marks, true_labels, rotation=90)\n",
    "    plt.yticks(ytick_marks,pred_labels)\n",
    "    plt.tight_layout()\n",
    "    plt.ylabel('True label', fontsize=14)\n",
    "    plt.xlabel('Predicted label', fontsize=14)\n",
    "    fig_size = plt.rcParams[\"figure.figsize\"]\n",
    "    fig_size[0] = 12\n",
    "    fig_size[1] = 12\n",
    "    plt.rcParams[\"figure.figsize\"] = fig_size"
   ]
  },
  {
   "cell_type": "code",
   "execution_count": 17,
   "metadata": {},
   "outputs": [
    {
     "data": {
      "image/png": "[encoded data removed]",
      "text/plain": [
       "<Figure size 432x288 with 2 Axes>"
      ]
     },
     "metadata": {},
     "output_type": "display_data"
    }
   ],
   "source": [
    "plot_confusion_matrix(Y_val,y_pred)"
   ]
  },
  {
   "cell_type": "markdown",
   "metadata": {},
   "source": [
    "### Making the prediction for the test set"
   ]
  },
  {
   "cell_type": "markdown",
   "metadata": {},
   "source": [
    "#### Training over the whole training set "
   ]
  },
  {
   "cell_type": "code",
   "execution_count": null,
   "metadata": {
    "collapsed": true
   },
   "outputs": [],
   "source": [
    "%%time\n",
    "clf_SVM = LinearSVC(C=1.0, loss='squared_hinge', penalty='l2',multi_class='ovr')\n",
    "clf_SVM.fit(trainX_features, trainY)"
   ]
  },
  {
   "cell_type": "markdown",
   "metadata": {},
   "source": [
    "#### Loading test features and predicting the output for the test set"
   ]
  },
  {
   "cell_type": "code",
   "execution_count": null,
   "metadata": {
    "collapsed": true
   },
   "outputs": [],
   "source": [
    "testX_features = pickle.load(open('testX_features'))\n",
    "prediction = clf_SVM.predict(testX_features)"
   ]
  },
  {
   "cell_type": "markdown",
   "metadata": {},
   "source": [
    "#### Exporting prediction  to csv "
   ]
  },
  {
   "cell_type": "code",
   "execution_count": null,
   "metadata": {
    "collapsed": true
   },
   "outputs": [],
   "source": [
    "%%time\n",
    "pred=[['id','class']]\n",
    "for i in range(len(prediction)):\n",
    "    pred.append([i, prediction[i]] ) \n",
    "with open(\"output_prediction.csv\", \"wb\") as f:\n",
    "    writer = csv.writer(f)\n",
    "    writer.writerows(pred)"
   ]
  },
  {
   "cell_type": "markdown",
   "metadata": {},
   "source": [
    "Submitting my prediction to the in-class Kaggle competition, I got 88% classification accuracy score, which is certainly a very good performance. This proves that this approach is quite interesting especially knowing that it only  took me a few lines of code and less than 2 hours of training on a laptop, of course compared to the whole process of deep learning that requires very large datasets and is quite time consuming."
   ]
  }
 ],
 "metadata": {
  "anaconda-cloud": {},
  "kernelspec": {
   "display_name": "Python 3",
   "language": "python",
   "name": "python3"
  },
  "language_info": {
   "codemirror_mode": {
    "name": "ipython",
    "version": 3
   },
   "file_extension": ".py",
   "mimetype": "text/x-python",
   "name": "python",
   "nbconvert_exporter": "python",
   "pygments_lexer": "ipython3",
   "version": "3.6.5"
  }
 },
 "nbformat": 4,
 "nbformat_minor": 2
}
